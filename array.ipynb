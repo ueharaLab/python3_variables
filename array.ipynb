{
 "cells": [
  {
   "cell_type": "markdown",
   "id": "5e653ff8-5e48-49ff-b4f3-16e272612321",
   "metadata": {},
   "source": [
    "# 配列\n",
    "1. 複数の要素を持つデータ型\n",
    "2. 要素は、数値、文字列どちらでもよい\n",
    "3. 配列のままで変数に格納できる\n",
    "4. 代表的な配列は、リスト型、numpy型、DataFrame型がある。\n",
    "5. 配列の要素には、インデックスが付与される\n",
    "\n",
    "例："
   ]
  },
  {
   "cell_type": "code",
   "execution_count": 1,
   "id": "3c09a941-c0ef-465f-8c95-7c3049de9202",
   "metadata": {},
   "outputs": [
    {
     "name": "stdout",
     "output_type": "stream",
     "text": [
      "[1, 2, 3, 4, 5]\n",
      "['今日', 'の', '授業', 'の', 'テーマ', 'は', '配列']\n"
     ]
    }
   ],
   "source": [
    "a = [1,2,3,4,5]\n",
    "print(a)\n",
    "b = ['今日','の','授業','の','テーマ','は','配列']\n",
    "print(b)"
   ]
  },
  {
   "cell_type": "markdown",
   "id": "20423b4c-503e-4378-af8b-9f39e2a4e52d",
   "metadata": {},
   "source": [
    "# 1. リスト型\n",
    "- 配列のデータ型の中でもっとも基本的な型\n",
    "- 異なるデータ型を要素に混在できる\n",
    "  "
   ]
  },
  {
   "cell_type": "code",
   "execution_count": 26,
   "id": "0479d382-a6fe-4db1-a693-698fc267c612",
   "metadata": {},
   "outputs": [
    {
     "name": "stdout",
     "output_type": "stream",
     "text": [
      "[1.0, 2.5, 5.5]\n",
      "[1.0, 2.5, 7.5]\n",
      "['a', 'f', 't']\n",
      "[2, '今日', 5, '授業']\n",
      "[2, '今日']\n"
     ]
    }
   ],
   "source": [
    "# 数値を要素とするリスト型\n",
    "a = [1.0,2.5,5.5]\n",
    "print(a)\n",
    "a = [1.0,2.5,5.5+2]\n",
    "print(a)\n",
    "# 文字列を要素とするリスト型 - 要素に' '  \" \"をつけること\n",
    "b = ['a','f','t']\n",
    "print(b)\n",
    "# 型の異なる要素の混在\n",
    "c = [2,'今日',5,'授業']\n",
    "print(c)\n",
    "#変数を要素とする\n",
    "a = 2\n",
    "b = '今日'\n",
    "c = [a,b]\n",
    "print(c)"
   ]
  },
  {
   "cell_type": "markdown",
   "id": "eab7c66c-d443-491e-8b2b-6dd38ae56bf4",
   "metadata": {},
   "source": [
    "\n",
    "### 1) 要素の追加"
   ]
  },
  {
   "cell_type": "code",
   "execution_count": 6,
   "id": "5c73855b-738f-4f01-9b06-330aebe990ed",
   "metadata": {},
   "outputs": [
    {
     "name": "stdout",
     "output_type": "stream",
     "text": [
      "[1.0, 2.5, 5.5, 2, 6, 2, 6, 2]\n",
      "[1.0, 2.5, 5.5, 2, 6, 2, 6, 2, 6]\n",
      "['a', 'f', 't', 'h']\n"
     ]
    }
   ],
   "source": [
    "a.append(2)\n",
    "print(a)\n",
    "a.append(6)\n",
    "print(a)\n",
    "b.append('h')\n",
    "print(b)"
   ]
  },
  {
   "cell_type": "markdown",
   "id": "4bfc7955-d0c5-4643-840c-33175598c02d",
   "metadata": {},
   "source": [
    "### 2) 繰り返し"
   ]
  },
  {
   "cell_type": "code",
   "execution_count": 15,
   "id": "990baef1-c83c-4af3-a051-73e42599b9b2",
   "metadata": {},
   "outputs": [
    {
     "name": "stdout",
     "output_type": "stream",
     "text": [
      "[0, 0, 0, 0, 0, 0, 0, 0, 0, 0]\n",
      "[2, 6, 2, 6, 2, 6, 2, 6]\n"
     ]
    }
   ],
   "source": [
    "a = [0]*10\n",
    "print(a)\n",
    "b = [2,6]\n",
    "c = b*4\n",
    "print(c)\n",
    "\n"
   ]
  },
  {
   "cell_type": "markdown",
   "id": "56c82e9d-c0de-4888-94df-c2a0695a1be2",
   "metadata": {},
   "source": [
    "### 3) 要素の演算"
   ]
  },
  {
   "cell_type": "code",
   "execution_count": 25,
   "id": "3d23a83b-af28-4516-af5a-6975cd9e561e",
   "metadata": {},
   "outputs": [
    {
     "name": "stdout",
     "output_type": "stream",
     "text": [
      "9.0\n",
      "5.5\n",
      "3.0\n",
      "average: 3.0\n"
     ]
    }
   ],
   "source": [
    "a = sum([1.0, 2.5, 5.5])\n",
    "print(a)\n",
    "b = max([1.0, 2.5, 5.5])\n",
    "print(b)\n",
    "c = [1.0, 2.5, 5.5]\n",
    "d=sum(c)/len(c)\n",
    "print(d)\n",
    "print('average:',d) #カンマ区切りで複数の要素を表示できる\n"
   ]
  },
  {
   "cell_type": "markdown",
   "id": "8f359ad4-616a-4c81-bca3-9096f55a2fdf",
   "metadata": {},
   "source": [
    "### 4) indexによる要素の抽出"
   ]
  },
  {
   "cell_type": "code",
   "execution_count": 27,
   "id": "15ac11a4-bf02-4d5e-9fff-974b0b2b782c",
   "metadata": {},
   "outputs": [
    {
     "name": "stdout",
     "output_type": "stream",
     "text": [
      "2.5\n",
      "[2, 6]\n",
      "[5.5, 2, 6, 2, 6, 2]\n"
     ]
    }
   ],
   "source": [
    "a = [1.0, 2.5, 5.5, 2, 6, 2, 6, 2]\n",
    "print(a[1])\n",
    "print(a[3:5])\n",
    "print(a[2:])"
   ]
  },
  {
   "cell_type": "markdown",
   "id": "374e6442-8284-4869-8c37-d05496310863",
   "metadata": {},
   "source": [
    "<img src=\"attachment:0c743374-7d9b-497c-8c6b-db62af949e04.png\" width=\"60%\">"
   ]
  },
  {
   "cell_type": "markdown",
   "id": "a4e0d9de-c266-4df8-b97c-ded1eacd86d0",
   "metadata": {},
   "source": [
    "### 5) 文字列への変換  \n",
    "文字列を要素とするリスト型の場合のみ"
   ]
  },
  {
   "cell_type": "code",
   "execution_count": 32,
   "id": "8cf2c8c6-ffe7-4939-91a3-201b66945f67",
   "metadata": {},
   "outputs": [
    {
     "name": "stdout",
     "output_type": "stream",
     "text": [
      "今日の天気は晴れ\n"
     ]
    }
   ],
   "source": [
    "a = ['今日','の','天気','は','晴れ']\n",
    "print(''.join(a))\n"
   ]
  },
  {
   "cell_type": "markdown",
   "id": "b7211c24-6705-4db9-a400-e0983f199de3",
   "metadata": {},
   "source": [
    "### 6) 2次元配列のリスト\n",
    "1.リスト型を要素に持つ2重のリスト  \n",
    "2. 2次元配列と呼ばれる。今まで説明したリスト型は1次元配列\n",
    "3. 要素のリストを１行とすると、2次元配列は表とみなすことができる\n",
    "4. indexを使って要素を取り出す場合、2つのindexを指定する必要がある"
   ]
  },
  {
   "cell_type": "code",
   "execution_count": 46,
   "id": "e1e3a437-d695-4837-addb-09f5fe4f52f9",
   "metadata": {},
   "outputs": [
    {
     "name": "stdout",
     "output_type": "stream",
     "text": [
      "[[1, 5, 7], [2, 3, 5], [7, 8, 4]]\n",
      "[2, 3, 5]\n",
      "7\n",
      "[3, 5]\n",
      "[[1, 5, 7], [2, 5], [8]]\n",
      "[['Alice', 20, 'England'], ['Bob', 19, 'United States'], ['Shohei', 29, 'Japan'], ['Mamiko', 28, 'Japan']]\n"
     ]
    }
   ],
   "source": [
    "a = [[1,5,7],[2,3,5],[7,8,4]]\n",
    "print(a)\n",
    "print(a[1])\n",
    "print(a[0][2])\n",
    "print(a[1][1:])\n",
    "b = [[1,5,7],[2,5],[8]]\n",
    "print(b)\n",
    "\n",
    "c = [['Alice',20,'England'],['Bob',19,'United States'],['Shohei',29,'Japan'],['Mamiko',28,'Japan']]\n",
    "print(c)"
   ]
  },
  {
   "cell_type": "markdown",
   "id": "3a1762a8-cbc0-4095-9c8e-7fb06f351804",
   "metadata": {},
   "source": [
    "<img src=\"attachment:22955c86-b0c5-4246-baf3-580bd55f7a2f.png\" width=\"60%\">"
   ]
  },
  {
   "cell_type": "markdown",
   "id": "b5a8fe71-a2bb-4615-a58b-701dec32ce65",
   "metadata": {},
   "source": [
    "# 演習1. \n",
    "1. Bob Ken Alice Kate を要素とするリストを作成せよ\n",
    "2. Allen Susan を要素とするリストを作成せよ\n",
    "3. 上記 1. 2.のリストを連結せよ\n",
    "4. 上記3.に、Juliaを追加せよ\n",
    "5. 上記4.から、indexを使ってAliceを取り出せ\n",
    "6. 同様に、alice kate Allenを取り出せ\n",
    "7. 上記4.のリストをスペース区切りの文字列　'Bob Ken Alice  に変換せよ(python .join等で検索して答えを見つけてください）"
   ]
  },
  {
   "cell_type": "code",
   "execution_count": 42,
   "id": "8196934c-1a68-42eb-9f47-0f8390698272",
   "metadata": {},
   "outputs": [
    {
     "name": "stdout",
     "output_type": "stream",
     "text": [
      "['Bob', 'Ken', 'Alice', 'Kate']\n",
      "['Bob', 'Ken', 'Alice', 'Kate', 'Allen', 'Susan']\n",
      "['Bob', 'Ken', 'Alice', 'Kate', 'Allen', 'Susan', 'Julia']\n",
      "Alice\n",
      "['Alice', 'Kate', 'Allen']\n",
      "Bob Ken Alice Kate Allen Susan Julia\n"
     ]
    }
   ],
   "source": []
  },
  {
   "cell_type": "markdown",
   "id": "7cdff4ad-5634-4bcd-b3ec-9af6e415e608",
   "metadata": {},
   "source": [
    "# 演習2. \n",
    "1. 2 4 6 を要素とするリストを作成せよ\n",
    "2. 1 3 5 を要素とするリストを作成せよ\n",
    "3. 上記1. の要素6、および2. の要素3を取り出して、加算した結果を表示せよ（この処理を1行で書くこと）\n",
    "4. 上記1. 2.を連結して要素の平均を計算せよ\n"
   ]
  },
  {
   "cell_type": "code",
   "execution_count": 40,
   "id": "8071b9b5",
   "metadata": {},
   "outputs": [
    {
     "name": "stdout",
     "output_type": "stream",
     "text": [
      "9\n",
      "3.5\n"
     ]
    }
   ],
   "source": []
  },
  {
   "cell_type": "markdown",
   "id": "612f1f61-d258-44b8-b00b-8ffc7b2ca3df",
   "metadata": {},
   "source": [
    "# 演習3."
   ]
  },
  {
   "cell_type": "markdown",
   "id": "273a9bb6",
   "metadata": {},
   "source": [
    "1. 以下のように1行の要素が、名前 身長 体重 年齢 国籍　であるようなリストを作成し、それを要素とする2次元配列リストを作成せよ  \n",
    "   Alice 170 60 20 England   Bob 185 75 19 United States  Shohei 192 85 30 Japan  Mamiko 183 75 28 Japan\n",
    "2. 以下のリストを1.に追加せよ  \n",
    "   Paul 185 80 31 France\n",
    "3. 上記2.の2次元配列からindexを使って以下の要素を取り出せ。  \n",
    "   - Shohei 192 85 30 Japan\n",
    "   - Maimko\n",
    "4. 年齢の平均値を求めよ"
   ]
  },
  {
   "cell_type": "code",
   "execution_count": 53,
   "id": "00f9a2c3-cd2d-4c58-8a57-71eb649adcb9",
   "metadata": {},
   "outputs": [
    {
     "name": "stdout",
     "output_type": "stream",
     "text": [
      "[['Alice', 170, 60, 20, 'England'], ['Bob', 185, 75, 19, 'United States'], ['Shohei', 192, 85, 30, 'Japan'], ['Mamiko', 183, 75, 28, 'Japan']]\n",
      "[['Alice', 170, 60, 20, 'England'], ['Bob', 185, 75, 19, 'United States'], ['Shohei', 192, 85, 30, 'Japan'], ['Mamiko', 183, 75, 28, 'Japan'], ['Paul', 185, 80, 31, 'France']]\n",
      "['Shohei', 192, 85, 30, 'Japan']\n",
      "Mamiko\n",
      "25.6\n"
     ]
    }
   ],
   "source": []
  },
  {
   "cell_type": "markdown",
   "id": "7cbe1492-ddb0-4de1-806f-7c3c03489eeb",
   "metadata": {},
   "source": [
    "# 2. numpy\n",
    "1. numerical python 大規模な数値計算を高速に処理するための配列型\n",
    "2. pythonでの大規模計算は例外なくnumpy型で実行する（ので大変重要）\n",
    "3. 一見リスト型とよく似ているが、ブロードキャスト（後述）など、numpy独自な高速計算のための様々な仕組みが用意されている"
   ]
  },
  {
   "cell_type": "code",
   "execution_count": 55,
   "id": "29abe2d2-708d-4dc8-8901-a3582ee93450",
   "metadata": {},
   "outputs": [
    {
     "name": "stdout",
     "output_type": "stream",
     "text": [
      "[1.  2.5 5.5]\n",
      "[1.  2.5 7.5]\n",
      "['a' 'f' 't']\n",
      "['2' '今日' '5' '授業']\n",
      "['2' '今日']\n"
     ]
    }
   ],
   "source": [
    "# 数値を要素とするnumpy型\n",
    "import numpy as np\n",
    "a = np.array([1.0,2.5,5.5])\n",
    "print(a)\n",
    "a = np.array([1.0,2.5,5.5+2])\n",
    "print(a)\n",
    "# 文字列を要素とするリスト型 - 要素に' '  \" \"をつけること\n",
    "b = np.array(['a','f','t'])\n",
    "print(b)\n",
    "# 型の異なる要素の混在\n",
    "c = np.array([2,'今日',5,'授業'])\n",
    "print(c)\n",
    "#変数を要素とする\n",
    "a = 2\n",
    "b = '今日'\n",
    "c = np.array([a,b])\n",
    "print(c)\n"
   ]
  },
  {
   "cell_type": "markdown",
   "id": "b90af417-cc30-4ed4-bb16-1db6d40ca4a7",
   "metadata": {},
   "source": [
    "### 1) 繰り返し"
   ]
  },
  {
   "cell_type": "code",
   "execution_count": 57,
   "id": "cd770b5d-74bd-4c8e-aeef-dfb7d8784e1a",
   "metadata": {},
   "outputs": [
    {
     "name": "stdout",
     "output_type": "stream",
     "text": [
      "[0. 0. 0. 0. 0. 0. 0. 0. 0. 0.]\n",
      "[1. 1. 1. 1. 1.]\n",
      "[0 1 2 3 4 5 6 7 8 9]\n"
     ]
    }
   ],
   "source": [
    "a = np.zeros(10)\n",
    "print(a)\n",
    "b = np.ones(5)\n",
    "print(b)\n",
    "c = np.arange(10)\n",
    "print(c)"
   ]
  },
  {
   "cell_type": "markdown",
   "id": "594c266b-8ab0-4a1f-9f5c-8b17f96621ee",
   "metadata": {},
   "source": [
    "### 2) 要素の演算"
   ]
  },
  {
   "cell_type": "code",
   "execution_count": 91,
   "id": "b2259e9e-ca4b-4670-b96d-2cab2d809195",
   "metadata": {},
   "outputs": [
    {
     "name": "stdout",
     "output_type": "stream",
     "text": [
      "9.0\n",
      "5.5\n",
      "3.0\n",
      "13.75\n"
     ]
    }
   ],
   "source": [
    "a = np.sum([1.0, 2.5, 5.5])\n",
    "print(a)\n",
    "b = np.max([1.0, 2.5, 5.5])\n",
    "print(b)\n",
    "c = np.mean([1.0, 2.5, 5.5]) #リスト型と異なり、平均を計算する関数がある\n",
    "print(c)\n",
    "d = np.prod([1.0, 2.5, 5.5])\n",
    "print(d)"
   ]
  },
  {
   "cell_type": "markdown",
   "id": "6d470324-9d66-4c4d-be9d-f727e60acdf1",
   "metadata": {},
   "source": [
    "<img src=\"attachment:96aab3f9-1933-42bf-a926-9189f14b0d37.png\" width=\"60%\">"
   ]
  },
  {
   "cell_type": "markdown",
   "id": "0d340006-2801-44eb-a49b-4ee548b2dd15",
   "metadata": {},
   "source": [
    "**ブロードキャスト**  \n",
    "numpyの要素に一括でスカラー演算を行うことができる（リスト型ではできない）"
   ]
  },
  {
   "cell_type": "code",
   "execution_count": 69,
   "id": "b41723a3-7cf1-4646-9ca6-6fe90231f584",
   "metadata": {},
   "outputs": [
    {
     "name": "stdout",
     "output_type": "stream",
     "text": [
      "[1.  2.5 5.5]\n",
      "[0.5  1.25 2.75]\n",
      "[1.         1.58113883 2.34520788]\n",
      "[ 1.    6.25 30.25]\n",
      "[1.  3.5 7.5]\n"
     ]
    }
   ],
   "source": [
    "a = np.array([1.0, 2.5, 5.5])\n",
    "print(a)\n",
    "print(a * 0.5)\n",
    "print(np.sqrt(a))\n",
    "print(a**2)\n",
    "b = np.arange(3)\n"
   ]
  },
  {
   "cell_type": "markdown",
   "id": "41e3993a-8486-42d4-87d6-5ca9acab285e",
   "metadata": {},
   "source": [
    "**対応要素同士の演算（リスト型ではできない）**"
   ]
  },
  {
   "cell_type": "code",
   "execution_count": 71,
   "id": "7612e379-97e2-445f-98b0-4c77eae6b520",
   "metadata": {},
   "outputs": [
    {
     "name": "stdout",
     "output_type": "stream",
     "text": [
      "[1.  3.5 7.5]\n",
      "[ 0.   2.5 11. ]\n"
     ]
    }
   ],
   "source": [
    "a = np.array([1.0, 2.5, 5.5])\n",
    "b = np.arange(3)\n",
    "print(a + b)\n",
    "print(a*b)"
   ]
  },
  {
   "cell_type": "markdown",
   "id": "043b7fec-7be5-455a-9346-da4f34f732ea",
   "metadata": {},
   "source": [
    "### 3) indexによる要素の取り出し\n",
    "構文はリスト型と同じ"
   ]
  },
  {
   "cell_type": "code",
   "execution_count": 72,
   "id": "4fb3a5c8-58f3-453d-999f-54d350d7a324",
   "metadata": {},
   "outputs": [
    {
     "name": "stdout",
     "output_type": "stream",
     "text": [
      "2.5\n",
      "[2. 6.]\n",
      "[5.5 2.  6.  2.  6.  2. ]\n"
     ]
    }
   ],
   "source": [
    "a = np.array([1.0, 2.5, 5.5, 2, 6, 2, 6, 2])\n",
    "print(a[1])\n",
    "print(a[3:5])\n",
    "print(a[2:])"
   ]
  },
  {
   "cell_type": "markdown",
   "id": "3c8e467d-fc69-4564-8fe3-ef456199de14",
   "metadata": {},
   "source": [
    "### 4) 要素の追加・numpy配列の連結"
   ]
  },
  {
   "cell_type": "code",
   "execution_count": 78,
   "id": "98454368-946d-4f45-9cd7-b78e40b293f7",
   "metadata": {},
   "outputs": [
    {
     "name": "stdout",
     "output_type": "stream",
     "text": [
      "[1.  2.5 5.5 2.  6.  2.  6.  2.  3.5]\n",
      "[1.  2.5 5.5 2.  6.  2.  6.  2.  1.  3.5 8.2]\n"
     ]
    }
   ],
   "source": [
    "a = np.array([1.0, 2.5, 5.5, 2, 6, 2, 6, 2])\n",
    "b = np.append(a,3.5)\n",
    "print(b)\n",
    "c = np.array([1.0,3.5,8.2])\n",
    "d = np.hstack([a,c])\n",
    "print(d)"
   ]
  },
  {
   "cell_type": "markdown",
   "id": "5cdd094f-7999-4c33-93e7-65ae2a36548b",
   "metadata": {},
   "source": [
    "### 5) 2次元配列のnumpy  \n",
    "1. numpy型配列を要素に持つ2重のリスト  \n",
    "2. 2次元配列と呼ばれる。今まで説明したnumpy型は1次元配列\n",
    "3. 要素のnumpyを１行とすると、2次元配列は表とみなすことができる\n",
    "4. indexを使って要素を取り出す場合、行と列の2つのindexを指定する必要がある"
   ]
  },
  {
   "cell_type": "code",
   "execution_count": 86,
   "id": "06507c79-658d-4dd1-929c-d3aff15641dd",
   "metadata": {},
   "outputs": [
    {
     "name": "stdout",
     "output_type": "stream",
     "text": [
      "[[1 5 7 9]\n",
      " [2 3 5 7]\n",
      " [7 8 4 2]]\n",
      "[2 3 5 7]\n",
      "7\n",
      "[3 5 7]\n",
      "[[5 7]\n",
      " [3 5]]\n",
      "[['Alice' '20' 'England']\n",
      " ['Bob' '19' 'United States']\n",
      " ['Shohei' '29' 'Japan']\n",
      " ['Mamiko' '28' 'Japan']]\n"
     ]
    }
   ],
   "source": [
    "a = np.array([[1,5,7,9],[2,3,5,7],[7,8,4,2]])\n",
    "# リスト型と異なり、表のイメージで表示される\n",
    "print(a)\n",
    "# 文字列と数値が混在した2次元配列\n",
    "c = np.array([['Alice',20,'England'],['Bob',19,'United States'],['Shohei',29,'Japan'],['Mamiko',28,'Japan']])\n",
    "print(c)"
   ]
  },
  {
   "cell_type": "markdown",
   "id": "6eec52f3-19b4-44fc-b902-c983221af660",
   "metadata": {},
   "source": [
    "**スライシング**"
   ]
  },
  {
   "cell_type": "code",
   "execution_count": 88,
   "id": "3dc22d2c-0d91-4b2d-8e41-961184ebbcd1",
   "metadata": {},
   "outputs": [
    {
     "name": "stdout",
     "output_type": "stream",
     "text": [
      "[2 3 5 7]\n",
      "7\n",
      "[3 5 7]\n",
      "[[5 7]\n",
      " [3 5]]\n"
     ]
    }
   ],
   "source": [
    "print(a[1])\n",
    "# 要素を取り出す。リスト型と構文が異なる\n",
    "print(a[0,2])\n",
    "print(a[1,1:])\n",
    "print(a[0:2,1:3])\n"
   ]
  },
  {
   "cell_type": "markdown",
   "id": "527b080a-a002-4acb-b504-78e42783fd98",
   "metadata": {},
   "source": [
    "<img src=\"attachment:dd89b1ea-c001-47c3-99ea-f59c9200818e.png\" width=\"60%\">"
   ]
  },
  {
   "cell_type": "markdown",
   "id": "31e2248a-44ef-48f4-a06b-b71c514b8227",
   "metadata": {},
   "source": [
    "**2次元配列中の配列要素の長さは同一でないとエラーになる（リスト型ではOK)**"
   ]
  },
  {
   "cell_type": "code",
   "execution_count": 84,
   "id": "ddad21ae-0c37-42b3-afb8-3d326647c764",
   "metadata": {},
   "outputs": [
    {
     "ename": "ValueError",
     "evalue": "setting an array element with a sequence. The requested array has an inhomogeneous shape after 1 dimensions. The detected shape was (3,) + inhomogeneous part.",
     "output_type": "error",
     "traceback": [
      "\u001b[1;31m---------------------------------------------------------------------------\u001b[0m",
      "\u001b[1;31mValueError\u001b[0m                                Traceback (most recent call last)",
      "Cell \u001b[1;32mIn[84], line 1\u001b[0m\n\u001b[1;32m----> 1\u001b[0m b \u001b[38;5;241m=\u001b[39m np\u001b[38;5;241m.\u001b[39marray([[\u001b[38;5;241m1\u001b[39m,\u001b[38;5;241m5\u001b[39m,\u001b[38;5;241m7\u001b[39m],[\u001b[38;5;241m2\u001b[39m,\u001b[38;5;241m5\u001b[39m],[\u001b[38;5;241m8\u001b[39m]])\n\u001b[0;32m      2\u001b[0m \u001b[38;5;28mprint\u001b[39m(b)\n",
      "\u001b[1;31mValueError\u001b[0m: setting an array element with a sequence. The requested array has an inhomogeneous shape after 1 dimensions. The detected shape was (3,) + inhomogeneous part."
     ]
    }
   ],
   "source": [
    "b = np.array([[1,5,7],[2,5],[8]])\n",
    "print(b)"
   ]
  },
  {
   "cell_type": "markdown",
   "id": "afc3102b-4334-4588-8074-036bf8ef36f6",
   "metadata": {},
   "source": [
    "**2次元配列の連結**  \n",
    "行方向：axis = 0　列方向 axis = 1"
   ]
  },
  {
   "cell_type": "code",
   "execution_count": 116,
   "id": "929a0c1a-3512-4c17-8e03-a09cc691e4fd",
   "metadata": {},
   "outputs": [
    {
     "name": "stdout",
     "output_type": "stream",
     "text": [
      "[[ 1  2  3  4]\n",
      " [ 5  6  7  8]\n",
      " [ 9 10 11 12]\n",
      " [ 1  1  1  1]\n",
      " [ 2  2  2  2]\n",
      " [ 3  3  3  3]]\n",
      "[[ 1  2  3  4]\n",
      " [ 5  6  7  8]\n",
      " [ 9 10 11 12]\n",
      " [ 1  1  1  1]\n",
      " [ 2  2  2  2]\n",
      " [ 3  3  3  3]]\n",
      "[[ 1  2  3  4  1  1]\n",
      " [ 5  6  7  8  2  2]\n",
      " [ 9 10 11 12  3  3]]\n",
      "[[ 1  2  3  4  1  1]\n",
      " [ 5  6  7  8  2  2]\n",
      " [ 9 10 11 12  3  3]]\n"
     ]
    }
   ],
   "source": [
    "a = np.array([[1,2,3,4],[5,6,7,8],[9,10,11,12]])\n",
    "b = np.array([[1,1,1,1],[2,2,2,2],[3,3,3,3]])\n",
    "c = np.concatenate([a,b],axis=0)\n",
    "print(c)\n",
    "d = np.vstack([a,b])\n",
    "print(d)\n",
    "e = np.array([[1,1],[2,2],[3,3]])\n",
    "f = np.concatenate([a,e],axis=1)\n",
    "print(f)\n",
    "g = np.hstack([a,e])\n",
    "print(g)\n"
   ]
  },
  {
   "cell_type": "markdown",
   "id": "f094d8b8-ace2-4897-8ad7-1d6e5bb67b22",
   "metadata": {},
   "source": [
    "<img src=\"attachment:36417ec2-c805-4aaf-8520-ed475d274fc6.png\" width=\"60%\">"
   ]
  },
  {
   "cell_type": "markdown",
   "id": "369a8b3c-fdc6-4fff-8a0b-7b9ba74eda74",
   "metadata": {},
   "source": [
    "**2次元配列の合計**"
   ]
  },
  {
   "cell_type": "code",
   "execution_count": 119,
   "id": "81fe2238-7e46-4796-bc60-0ee05bb18401",
   "metadata": {},
   "outputs": [
    {
     "name": "stdout",
     "output_type": "stream",
     "text": [
      "[[ 1  2  3  4]\n",
      " [ 5  6  7  8]\n",
      " [ 9 10 11 12]]\n",
      "行合計 [15 18 21 24]\n",
      "列合計 [10 26 42]\n",
      "行最大値 [ 9 10 11 12]\n",
      "列最大値 [ 4  8 12]\n"
     ]
    }
   ],
   "source": [
    "print(a)\n",
    "h = np.sum(a, axis=0)\n",
    "print('行合計',h)\n",
    "i = np.sum(a,axis=1)\n",
    "print('列合計',i)\n",
    "j = np.max(a,axis=0)\n",
    "print('行最大値',j)\n",
    "k = np.max(a,axis=1)\n",
    "print('列最大値',k)"
   ]
  },
  {
   "cell_type": "markdown",
   "id": "4fa00a04-4ed1-4b26-bb23-b9b65b1f05fb",
   "metadata": {},
   "source": [
    "<img src=\"attachment:598198bb-683b-4270-acfd-d45466b846b2.png\" width=\"60%\">"
   ]
  },
  {
   "cell_type": "markdown",
   "id": "77b27d09-300a-4f4c-acbe-657b00a2ee27",
   "metadata": {},
   "source": [
    "**ブロードキャスト**"
   ]
  },
  {
   "cell_type": "code",
   "execution_count": 120,
   "id": "b572b972-190c-4944-9ec3-c137aba4c002",
   "metadata": {},
   "outputs": [
    {
     "name": "stdout",
     "output_type": "stream",
     "text": [
      "[[ 1  2  3  4]\n",
      " [ 5  6  7  8]\n",
      " [ 9 10 11 12]]\n",
      "[[ 10  20  30  40]\n",
      " [ 50  60  70  80]\n",
      " [ 90 100 110 120]]\n",
      "[[ 1  4  9 16]\n",
      " [ 5 12 21 32]\n",
      " [ 9 20 33 48]]\n"
     ]
    }
   ],
   "source": [
    "print(a)\n",
    "d=a*10\n",
    "print(d)\n",
    "e = a * [1,2,3,4]\n",
    "print(e)"
   ]
  },
  {
   "cell_type": "markdown",
   "id": "fac1b889-7f34-488f-93f6-75208325b35d",
   "metadata": {},
   "source": [
    "**条件抽出**"
   ]
  },
  {
   "cell_type": "code",
   "execution_count": 163,
   "id": "b136b4d9-0787-4783-8542-99166df79372",
   "metadata": {},
   "outputs": [
    {
     "name": "stdout",
     "output_type": "stream",
     "text": [
      "[ 6  7  8  9 10 11]\n",
      "[ 0  2  4  6  8 10]\n"
     ]
    }
   ],
   "source": [
    "f = a[a>5]\n",
    "print(f)\n",
    "g = a[a%2==0]\n",
    "print(g)"
   ]
  },
  {
   "cell_type": "markdown",
   "id": "d279b0c5-8479-4d94-9a30-9e17435c056e",
   "metadata": {},
   "source": [
    "**変形**"
   ]
  },
  {
   "cell_type": "code",
   "execution_count": 130,
   "id": "433da2bb-17b1-4793-828b-20c14f3640d5",
   "metadata": {},
   "outputs": [
    {
     "name": "stdout",
     "output_type": "stream",
     "text": [
      "[[ 1  2  3  4  5  6]\n",
      " [ 7  8  9 10 11 12]]\n",
      "[[ 1  2]\n",
      " [ 3  4]\n",
      " [ 5  6]\n",
      " [ 7  8]\n",
      " [ 9 10]\n",
      " [11 12]]\n",
      "[[ 1  2  3]\n",
      " [ 4  5  6]\n",
      " [ 7  8  9]\n",
      " [10 11 12]]\n",
      "[[ 1  2  3]\n",
      " [ 4  5  6]\n",
      " [ 7  8  9]\n",
      " [10 11 12]]\n",
      "[[ 1  2  3]\n",
      " [ 4  5  6]\n",
      " [ 7  8  9]\n",
      " [10 11 12]]\n"
     ]
    }
   ],
   "source": [
    "h = a.reshape(2,6)\n",
    "print(h)\n",
    "i = a.reshape(6,2)\n",
    "print(i)\n",
    "j = a.reshape(4,3)\n",
    "print(j)\n",
    "k = a.reshape(-1,3)\n",
    "print(k)\n",
    "l = a.reshape(4,-1)\n",
    "print(l)"
   ]
  },
  {
   "cell_type": "code",
   "execution_count": 161,
   "id": "e2e78384-c80b-4bfd-8767-21b525276a68",
   "metadata": {},
   "outputs": [
    {
     "ename": "ValueError",
     "evalue": "operands could not be broadcast together with shapes (4,3) (4,) ",
     "output_type": "error",
     "traceback": [
      "\u001b[1;31m---------------------------------------------------------------------------\u001b[0m",
      "\u001b[1;31mValueError\u001b[0m                                Traceback (most recent call last)",
      "Cell \u001b[1;32mIn[161], line 2\u001b[0m\n\u001b[0;32m      1\u001b[0m w \u001b[38;5;241m=\u001b[39m np\u001b[38;5;241m.\u001b[39marray([\u001b[38;5;241m1\u001b[39m,\u001b[38;5;241m1\u001b[39m,\u001b[38;5;241m1\u001b[39m,\u001b[38;5;241m1\u001b[39m])\n\u001b[1;32m----> 2\u001b[0m x \u001b[38;5;241m=\u001b[39m j \u001b[38;5;241m+\u001b[39m w\n",
      "\u001b[1;31mValueError\u001b[0m: operands could not be broadcast together with shapes (4,3) (4,) "
     ]
    }
   ],
   "source": [
    "w = np.array([1,1,1,1])\n",
    "x = j + w"
   ]
  },
  {
   "cell_type": "code",
   "execution_count": 129,
   "id": "752209bc-9e13-4dcb-9074-b20cba48f8bb",
   "metadata": {},
   "outputs": [
    {
     "name": "stdout",
     "output_type": "stream",
     "text": [
      "[[1]\n",
      " [1]\n",
      " [1]\n",
      " [1]]\n",
      "[[ 2  3  4]\n",
      " [ 5  6  7]\n",
      " [ 8  9 10]\n",
      " [11 12 13]]\n"
     ]
    }
   ],
   "source": [
    "w = np.array([1,1,1,1])\n",
    "v = w.reshape(4,1)\n",
    "print(v)\n",
    "x = j + v\n",
    "print(x)"
   ]
  },
  {
   "cell_type": "markdown",
   "id": "dc4dc9e1-ef61-447b-a718-a1143b659e9a",
   "metadata": {},
   "source": [
    "# 演習1"
   ]
  },
  {
   "cell_type": "markdown",
   "id": "e12f4bac",
   "metadata": {},
   "source": [
    "1. 以下のnumpy配列を作成して5を取り出せ  \n",
    "  1,3,5,7,9,11,13,15,17,19,21\n",
    "2. 同様に、9～15を取り出せ\n",
    "3. 同様に、1~7を取り出せ\n",
    "4. 上記、2. 3. の対応要素を加算せよ\n",
    "5. 上記、4.の各要素を二乗せよ\n",
    "6. 上記、2. 3. 連結して1行8列の表を作成せよ\n",
    "8. 上記7.の要素の合計を計算せよ"
   ]
  },
  {
   "cell_type": "code",
   "execution_count": 143,
   "id": "f0f5c6de",
   "metadata": {},
   "outputs": [
    {
     "name": "stdout",
     "output_type": "stream",
     "text": [
      "[ 1  3  5  7  9 11 13 15 17 19 21]\n",
      "5\n",
      "[ 9 11 13 15]\n",
      "[1 3 5 7]\n",
      "[10 14 18 22]\n",
      "[100 196 324 484]\n",
      "[ 9 11 13 15  1  3  5  7]\n",
      "64\n"
     ]
    }
   ],
   "source": []
  },
  {
   "cell_type": "markdown",
   "id": "5deb354d-5914-4573-80da-48cf566fe553",
   "metadata": {},
   "source": [
    "# 演習2."
   ]
  },
  {
   "cell_type": "markdown",
   "id": "11f12a74-3b41-4050-ab4b-4615cc6de0f7",
   "metadata": {},
   "source": [
    "1. 以下のリスト型の配列から2行目の要素5.6を取り出せ  \n",
    "   c = [[0,1,2,3],[4,5,6,7],[8,9,10,11]]\n",
    "3. 以下の配列をnumpy型に変換して、1.と同じ処理を行え   \n",
    "4. 変換した配列から、5,6,9,10を行列の形式で取り出せ\n",
    "5. 配列[[12,13,14,15],[16,17,18,19]]をnumpyにして3.の行方向に連結せよ\n",
    "6. 配列[20,21,22,23,24]をnumpyにして5.の列方向に連結せよ"
   ]
  },
  {
   "cell_type": "code",
   "execution_count": 155,
   "id": "daf1f73d",
   "metadata": {},
   "outputs": [
    {
     "name": "stdout",
     "output_type": "stream",
     "text": [
      "[5, 6]\n",
      "[[ 0  1  2  3]\n",
      " [ 4  5  6  7]\n",
      " [ 8  9 10 11]]\n",
      "[5 6]\n",
      "[[ 5  6]\n",
      " [ 9 10]]\n",
      "[[ 0  1  2  3]\n",
      " [ 4  5  6  7]\n",
      " [ 8  9 10 11]\n",
      " [12 13 14 15]\n",
      " [16 17 18 19]]\n",
      "[[20]\n",
      " [21]\n",
      " [22]\n",
      " [23]\n",
      " [24]]\n",
      "[[ 0  1  2  3 20]\n",
      " [ 4  5  6  7 21]\n",
      " [ 8  9 10 11 22]\n",
      " [12 13 14 15 23]\n",
      " [16 17 18 19 24]]\n",
      "[[ 0  1  2  3 20]\n",
      " [ 4  5  6  7 21]\n",
      " [ 8  9 10 11 22]\n",
      " [12 13 14 15 23]\n",
      " [16 17 18 19 24]]\n"
     ]
    }
   ],
   "source": []
  },
  {
   "cell_type": "markdown",
   "id": "0e2a2e71-acb6-430c-8786-2f77ca323075",
   "metadata": {},
   "source": [
    "# 演習3.\n",
    "\n",
    "1. 以下の1次元配列を3行4列のnumpy 2次元配列に変換せよ  \n",
    "   0,1,2,3,4,5,6,7,8,9,10,11\n",
    "2. 上記2次元配列について行合計、列合計を計算せよ\n",
    "3. 上記の1次元配列を4行3列のnumpy 2次元配列に変換せよ\n",
    "4. 上記2次元配列について行合計　列合計を計算せよ\n",
    "5. 同様にして、行毎の平均、列毎の平均を計算せよ\n",
    "6. 同様にして、行毎の最大値、列毎の最大値を計算せよ"
   ]
  },
  {
   "cell_type": "code",
   "execution_count": 165,
   "id": "0c81ffe7",
   "metadata": {},
   "outputs": [
    {
     "name": "stdout",
     "output_type": "stream",
     "text": [
      "[[ 0  1  2  3]\n",
      " [ 4  5  6  7]\n",
      " [ 8  9 10 11]]\n",
      "[ 6 22 38]\n",
      "[12 15 18 21]\n",
      "[[ 0  1  2]\n",
      " [ 3  4  5]\n",
      " [ 6  7  8]\n",
      " [ 9 10 11]]\n",
      "[ 3 12 21 30]\n",
      "[18 22 26]\n",
      "[ 1.  4.  7. 10.]\n",
      "[4.5 5.5 6.5]\n",
      "[ 2  5  8 11]\n",
      "[ 9 10 11]\n"
     ]
    }
   ],
   "source": []
  },
  {
   "cell_type": "code",
   "execution_count": null,
   "id": "f972c381",
   "metadata": {},
   "outputs": [],
   "source": []
  }
 ],
 "metadata": {
  "kernelspec": {
   "display_name": "Python 3 (ipykernel)",
   "language": "python",
   "name": "python3"
  },
  "language_info": {
   "codemirror_mode": {
    "name": "ipython",
    "version": 3
   },
   "file_extension": ".py",
   "mimetype": "text/x-python",
   "name": "python",
   "nbconvert_exporter": "python",
   "pygments_lexer": "ipython3",
   "version": "3.11.7"
  }
 },
 "nbformat": 4,
 "nbformat_minor": 5
}
